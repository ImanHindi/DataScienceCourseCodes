{
 "cells": [
  {
   "cell_type": "code",
   "execution_count": null,
   "id": "ddfaf963",
   "metadata": {},
   "outputs": [],
   "source": [
    "training_data=[\n",
    "    ['green',3,'mango'],\n",
    "    ['yello',3,'mango'],\n",
    "    ['red',1,'grape'],\n",
    "    ['red',1,'grape'],\n",
    "    ['yellow',3,'lemon'],\n",
    "]\n",
    "header=['color','diameter','label']\n",
    "def uniq_value(rows,col):\n",
    "    \n",
    "    return set([row[col] for row in rows])\n",
    "\n",
    "def class_counts(rows):\n",
    "    \"\"\"counts the number of each type of example in a dataset.\"\"\"\n",
    "    counts = {}\n",
    "    for row in rows:\n",
    "        label = row[-1]\n",
    "        if label not in counts:\n",
    "            counts[label] = 0\n",
    "             counts[label] +=1\n",
    "    return counts\n",
    "            "
   ]
  }
 ],
 "metadata": {
  "kernelspec": {
   "display_name": "Python 3 (ipykernel)",
   "language": "python",
   "name": "python3"
  },
  "language_info": {
   "codemirror_mode": {
    "name": "ipython",
    "version": 3
   },
   "file_extension": ".py",
   "mimetype": "text/x-python",
   "name": "python",
   "nbconvert_exporter": "python",
   "pygments_lexer": "ipython3",
   "version": "3.9.7"
  }
 },
 "nbformat": 4,
 "nbformat_minor": 5
}
